{
  "nbformat": 4,
  "nbformat_minor": 0,
  "metadata": {
    "colab": {
      "name": "juntoData.ipynb",
      "provenance": []
    },
    "kernelspec": {
      "name": "python3",
      "display_name": "Python 3"
    },
    "language_info": {
      "name": "python"
    }
  },
  "cells": [
    {
      "cell_type": "code",
      "metadata": {
        "id": "dWoJ-5E9KATg"
      },
      "source": [
        "import pandas as pd\n",
        "import numpy as np"
      ],
      "execution_count": null,
      "outputs": []
    },
    {
      "cell_type": "code",
      "metadata": {
        "id": "Gr9ProQHTjXb"
      },
      "source": [
        "def numerizeYear(df):\n",
        "  df.reset_index(inplace=True)\n",
        "  df['Year']=pd.to_numeric(df['Year'])\n",
        "  df.set_index(['Borough','Year'],inplace=True)\n",
        "  return df\n",
        "def boroughSetter(df):\n",
        "  df.reset_index(inplace=True)\n",
        "  df['Borough'] = df['Borough'].str.replace(' Of ', ' of ')\n",
        "  df['Borough'] = df['Borough'].str.replace(' Upon ', ' upon ')\n",
        "  df['Borough'] = df['Borough'].str.replace(' & ', ' and ')\n",
        "  df['Borough'] = df['Borough'].str.replace('City of Westminster', 'Westminster')\n",
        "  \n",
        "  df.set_index(['Borough','Year'],inplace=True)\n",
        "  return df\n",
        "\n",
        "def junter(full,new):\n",
        "  new=numerizeYear(new)\n",
        "  new=boroughSetter(new)\n",
        "  result=pd.concat([full, new],axis=1)\n",
        "  return result\n",
        "\n",
        "def checker(df,start,finish):\n",
        "  print('la lenght es ',len(df))\n",
        "  for i in np.arange(start,finish+1,1):\n",
        "    print(len(df.loc[(slice(None),i),:]))\n",
        "  return None\n"
      ],
      "execution_count": null,
      "outputs": []
    },
    {
      "cell_type": "code",
      "metadata": {
        "id": "oawBOvqeKK31",
        "colab": {
          "base_uri": "https://localhost:8080/",
          "height": 231
        },
        "outputId": "a857dc4a-656a-47b3-d23b-79fb7d5d7bc7"
      },
      "source": [
        "df0=pd.read_pickle('/content/drive/MyDrive/Tesis Economia/Cambio climatico/excel/salida/activenterprisesbyborough.pkl')\n",
        "df1=pd.read_pickle('/content/drive/MyDrive/Tesis Economia/Cambio climatico/excel/SALIDA/electricityconsumption1.pkl')\n",
        "#df0=numerizeYear(df0)\n",
        "#df1=numerizeYear(df1)\n",
        "#dFull=pd.concat([df0, df1],axis=1)\n",
        "#dFull\n"
      ],
      "execution_count": null,
      "outputs": [
        {
          "output_type": "error",
          "ename": "NameError",
          "evalue": "ignored",
          "traceback": [
            "\u001b[0;31m---------------------------------------------------------------------------\u001b[0m",
            "\u001b[0;31mNameError\u001b[0m                                 Traceback (most recent call last)",
            "\u001b[0;32m<ipython-input-1-3e316f7364cb>\u001b[0m in \u001b[0;36m<module>\u001b[0;34m()\u001b[0m\n\u001b[0;32m----> 1\u001b[0;31m \u001b[0mdf0\u001b[0m\u001b[0;34m=\u001b[0m\u001b[0mpd\u001b[0m\u001b[0;34m.\u001b[0m\u001b[0mread_pickle\u001b[0m\u001b[0;34m(\u001b[0m\u001b[0;34m'/content/drive/MyDrive/Tesis Economia/Cambio climatico/excel/salida/activenterprisesbyborough.pkl'\u001b[0m\u001b[0;34m)\u001b[0m\u001b[0;34m\u001b[0m\u001b[0;34m\u001b[0m\u001b[0m\n\u001b[0m\u001b[1;32m      2\u001b[0m \u001b[0mdf1\u001b[0m\u001b[0;34m=\u001b[0m\u001b[0mpd\u001b[0m\u001b[0;34m.\u001b[0m\u001b[0mread_pickle\u001b[0m\u001b[0;34m(\u001b[0m\u001b[0;34m'/content/drive/MyDrive/Tesis Economia/Cambio climatico/excel/SALIDA/electricityconsumption1.pkl'\u001b[0m\u001b[0;34m)\u001b[0m\u001b[0;34m\u001b[0m\u001b[0;34m\u001b[0m\u001b[0m\n\u001b[1;32m      3\u001b[0m \u001b[0;31m#df0=numerizeYear(df0)\u001b[0m\u001b[0;34m\u001b[0m\u001b[0;34m\u001b[0m\u001b[0;34m\u001b[0m\u001b[0m\n\u001b[1;32m      4\u001b[0m \u001b[0;31m#df1=numerizeYear(df1)\u001b[0m\u001b[0;34m\u001b[0m\u001b[0;34m\u001b[0m\u001b[0;34m\u001b[0m\u001b[0m\n\u001b[1;32m      5\u001b[0m \u001b[0;31m#dFull=pd.concat([df0, df1],axis=1)\u001b[0m\u001b[0;34m\u001b[0m\u001b[0;34m\u001b[0m\u001b[0;34m\u001b[0m\u001b[0m\n",
            "\u001b[0;31mNameError\u001b[0m: name 'pd' is not defined"
          ]
        }
      ]
    },
    {
      "cell_type": "code",
      "metadata": {
        "id": "UpZP5sAxW7OS"
      },
      "source": [
        "#cambiar formato de columnas\n",
        "df2=pd.read_pickle('/content/drive/MyDrive/Tesis Economia/Cambio climatico/agus/done/cob-borough.pkl')\n",
        "df2=numerizeYear(df2)\n",
        "dFull1=pd.concat([dFull, df2],axis=1)\n",
        "checker(dFull1,1999,2020)\n",
        "dFull1"
      ],
      "execution_count": null,
      "outputs": []
    },
    {
      "cell_type": "code",
      "metadata": {
        "id": "yDKX-xHDiQpj"
      },
      "source": [
        "df3=pd.read_pickle('/content/drive/MyDrive/Tesis Economia/Cambio climatico/agus/done/electoral-roll-numbers-borough.pkl')\n",
        "dFull2=junter(dFull1,df3)\n",
        "checker(dFull2,1999,2020)\n",
        "dFull2\n"
      ],
      "execution_count": null,
      "outputs": []
    },
    {
      "cell_type": "code",
      "metadata": {
        "id": "-pqT8ntWjNFu"
      },
      "source": [
        "url='/content/drive/MyDrive/Tesis Economia/Cambio climatico/agus/done/met-police-recorded-offences-rates-borough.pkl'\n",
        "df4=pd.read_pickle(url)\n",
        "dFull3=junter(dFull2,df4)\n",
        "checker(dFull3,1999,2020)\n",
        "dFull3"
      ],
      "execution_count": null,
      "outputs": []
    },
    {
      "cell_type": "code",
      "metadata": {
        "id": "QzYFNiuZqAq8"
      },
      "source": [
        "\n",
        "url='/content/drive/MyDrive/Tesis Economia/Cambio climatico/agus/done/housing-density-borough.pkl'\n",
        "df5=pd.read_pickle(url)\n",
        "df5=df5.drop(['London','Inner London','Outer London','Greater London'])\n",
        "dFull4=junter(dFull3,df5)\n",
        "checker(dFull4,1999,2050)\n",
        "dFull4\n"
      ],
      "execution_count": null,
      "outputs": []
    },
    {
      "cell_type": "code",
      "metadata": {
        "id": "AQ_Pn6satgAO"
      },
      "source": [
        "url='/content/drive/MyDrive/Tesis Economia/Cambio climatico/agus/done/nationality-borough.pkl'\n",
        "df6=pd.read_pickle(url)\n",
        "df6.columns = ['__'.join(col).strip() for col in df6.columns.values]\n",
        "df6.columns = [f'nationality/{col}' for col in df6.columns.values]\n",
        "\n",
        "dFull5=junter(dFull4,df6)\n",
        "checker(dFull5,1999,2050)\n",
        "dFull5"
      ],
      "execution_count": null,
      "outputs": []
    },
    {
      "cell_type": "code",
      "metadata": {
        "id": "G1JeekAIy1Kf"
      },
      "source": [
        "url='/content/drive/MyDrive/Tesis Economia/Cambio climatico/agus/done/statutory-homelessness-borough 2017-18 revised.pkl'\n",
        "df7=pd.read_pickle(url)\n",
        "\n",
        "\n",
        "dFull6=junter(dFull5,df7)\n",
        "checker(dFull6,1999,2050)\n",
        "dFull6\n"
      ],
      "execution_count": null,
      "outputs": []
    },
    {
      "cell_type": "code",
      "metadata": {
        "id": "-y-TP8br0Zvu"
      },
      "source": [
        "url='/content/drive/MyDrive/Tesis Economia/Cambio climatico/agus/done/population-by-religion-borough.pkl'\n",
        "df8=pd.read_pickle(url)\n",
        "\n",
        "\n",
        "dFull7=junter(dFull6,df8)\n",
        "checker(dFull7,1999,2050)\n",
        "dFull7\n",
        "\n"
      ],
      "execution_count": null,
      "outputs": []
    },
    {
      "cell_type": "code",
      "metadata": {
        "id": "dUnpySCF1q41"
      },
      "source": [
        "url='/content/drive/MyDrive/Tesis Economia/Cambio climatico/agus/done/Internal-migration-flows-age-groups-0to15-2002-2016.pkl'\n",
        "df9=pd.read_pickle(url)\n",
        "df9.reset_index(inplace=True)\n",
        "df9.set_index(['Borough','Year','age-group'],inplace=True)\n",
        "df9=df9.unstack()\n",
        "df9.columns = ['/'.join(col).strip() for col in df9.columns.values]\n",
        "dFull8=junter(dFull7,df9)\n",
        "checker(dFull8,1999,2050)\n",
        "dFull8\n"
      ],
      "execution_count": null,
      "outputs": []
    },
    {
      "cell_type": "code",
      "metadata": {
        "id": "-ZJ38_8C31P8"
      },
      "source": [
        "url='/content/drive/MyDrive/Tesis Economia/Cambio climatico/agus/done/population-estimates-single-year-age.pkl'\n",
        "df10=pd.read_pickle(url)\n",
        "df10=df10.loc[:,'PERSONS']\n",
        "df10.columns = [f'age/{col}' for col in df10.columns.values]\n",
        "\n",
        "\n",
        "dFull9=junter(dFull8,df10)\n",
        "checker(dFull9,1999,2050)\n",
        "\n",
        "dFull9"
      ],
      "execution_count": null,
      "outputs": []
    },
    {
      "cell_type": "code",
      "metadata": {
        "id": "FoUmhcjH81xi"
      },
      "source": [
        "#dFull9.to_pickle('fullLondon0.pkl')\n",
        "#dFull9.to_csv('fullLondon0.csv')"
      ],
      "execution_count": null,
      "outputs": []
    },
    {
      "cell_type": "code",
      "metadata": {
        "id": "SQThqtwkLiUv"
      },
      "source": [
        "#boroughSetter(df)\n",
        "def firstFour(cell):\n",
        "  return cell[0:4]\n",
        "df0=pd.read_pickle('/content/drive/MyDrive/Tesis Economia/Cambio climatico/agus/fullLondonV1.pkl')\n",
        "df1=pd.read_pickle('/content/drive/MyDrive/Tesis Economia/Cambio climatico/excel/SALIDA/UK INDEX PRICES.pkl')\n",
        "df1.reset_index(inplace=True)\n",
        "df1.set_index(['Borough','Year'],inplace=True)\n",
        "df1.sort_index(inplace=True)\n",
        "df1=boroughSetter(df1)\n",
        "df1=df1.drop(['EAST MIDLANDS','EAST OF ENGLAND','England','Inner London','LONDON','NORTH EAST','NORTH WEST','Outer London','SOUTH EAST','SOUTH WEST','WEST MIDLANDS','YORKS and THE HUMBER'])\n",
        "df1.reset_index(inplace=True)\n",
        "df1=df1.rename(columns={'Category':'','Year':'Date'})\n",
        "df1['Date']=df1['Date'].apply(str)\n",
        "df1['Year']=df1['Date'].apply(firstFour)\n",
        "df1['Year']=pd.to_numeric(df1['Year'])\n",
        "df1['Month']=df1['Date'].apply(lambda cell: cell[5:7])\n",
        "df1['Month']=pd.to_numeric(df1['Month'])\n",
        "df1=df1.drop('Date',axis=1)\n",
        "#df1.to_excel('medio.xlsx')\n",
        "df2=pd.read_excel('/content/medio.xlsx')\n",
        "df2=df2.drop('Unnamed: 0',axis=1)\n",
        "df2.set_index(['Borough','Year','Month'],inplace=True)\n",
        "df2=df2.unstack()\n",
        "df2=df2.rename_axis(columns={'Month':''})  \n",
        "#df2.to_csv('price.csv')\n",
        "#df2.to_pickle('price.pkl')\n"
      ],
      "execution_count": null,
      "outputs": []
    },
    {
      "cell_type": "code",
      "metadata": {
        "colab": {
          "base_uri": "https://localhost:8080/"
        },
        "id": "lntcC18JiCEP",
        "outputId": "08bb5439-32ff-43e3-f72e-8f755bcec130"
      },
      "source": [
        "url='/content/price.pkl'\n",
        "dfv=pd.read_pickle(url)\n",
        "gf = [f'{col[0]}/{col[1]}' for col in dfv.columns.values]\n",
        "dfv.columns = [f'{col[0]}/{col[1]}' for col in dfv.columns.values]\n",
        "acum=junter(df0,dfv)\n",
        "checker(acum,1999,2020)\n",
        "#acum.to_csv('fullLondonV2.csv')\n",
        "#acum.to_pickle('fullLondonV2.pkl')"
      ],
      "execution_count": null,
      "outputs": [
        {
          "output_type": "stream",
          "text": [
            "la lenght es  1848\n",
            "33\n",
            "33\n",
            "33\n",
            "33\n",
            "33\n",
            "33\n",
            "33\n",
            "33\n",
            "33\n",
            "33\n",
            "33\n",
            "33\n",
            "33\n",
            "33\n",
            "33\n",
            "33\n",
            "33\n",
            "33\n",
            "33\n",
            "33\n",
            "33\n",
            "33\n"
          ],
          "name": "stdout"
        }
      ]
    },
    {
      "cell_type": "code",
      "metadata": {
        "colab": {
          "base_uri": "https://localhost:8080/"
        },
        "id": "7D1KyPH_zNY6",
        "outputId": "79a29914-a6be-4e71-b248-686f6e3af310"
      },
      "source": [
        "\n",
        "def firstFour(cell):\n",
        "  return cell[0:4]\n",
        "df0=pd.read_pickle('/content/drive/MyDrive/Tesis Economia/Cambio climatico/agus/fullLondonV1.pkl')\n",
        "df1=pd.read_pickle('/content/drive/MyDrive/Tesis Economia/Cambio climatico/excel/SALIDA/avg prices by type.pkl')\n",
        "\n",
        "df1.reset_index(inplace=True)\n",
        "df1['Date']=df1['Date'].apply(str)\n",
        "df1['Year']=df1['Date'].apply(firstFour)\n",
        "df1['Year']=pd.to_numeric(df1['Year'])\n",
        "df1['Month']=df1['Date'].apply(lambda cell: cell[5:7])\n",
        "df1['Month']=pd.to_numeric(df1['Month'])\n",
        "df1.set_index(['Borough','Year'],inplace=True)\n",
        "df1.sort_index(inplace=True)\n",
        "df1=boroughSetter(df1)\n",
        "\n",
        "boroughs=df0.loc[(slice(None),2000),:].reset_index()['Borough'].to_numpy()\n",
        "df1=df1.loc[boroughs,:]\n",
        "df1=df1.drop('Date',axis=1)\n",
        "\n",
        "df1.reset_index(inplace=True)\n",
        "\n",
        "df1.set_index(['Borough','Year','Month'],inplace=True)\n",
        "df1=df1.unstack()\n",
        "df1=df1.rename_axis(columns={'Month':''})  \n",
        "\n",
        "\n",
        "df1.columns = [f'{col[0]}/{col[1]}' for col in df1.columns.values]\n",
        "acum=junter(df0,df1)\n",
        "checker(acum,1995,2020)\n",
        "#acum.to_csv('fullLondonV3.csv')\n",
        "#acum.to_pickle('fullLondonV3.pkl')"
      ],
      "execution_count": null,
      "outputs": [
        {
          "output_type": "stream",
          "text": [
            "la lenght es  1848\n",
            "33\n",
            "33\n",
            "33\n",
            "33\n",
            "33\n",
            "33\n",
            "33\n",
            "33\n",
            "33\n",
            "33\n",
            "33\n",
            "33\n",
            "33\n",
            "33\n",
            "33\n",
            "33\n",
            "33\n",
            "33\n",
            "33\n",
            "33\n",
            "33\n",
            "33\n",
            "33\n",
            "33\n",
            "33\n",
            "33\n"
          ],
          "name": "stdout"
        }
      ]
    }
  ]
}